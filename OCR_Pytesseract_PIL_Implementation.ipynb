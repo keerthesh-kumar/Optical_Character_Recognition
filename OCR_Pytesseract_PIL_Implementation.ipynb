{
 "cells": [
  {
   "cell_type": "markdown",
   "metadata": {},
   "source": [
    "# Reading the characters from an Image"
   ]
  },
  {
   "cell_type": "code",
   "execution_count": 1,
   "metadata": {},
   "outputs": [],
   "source": [
    "import pytesseract\n",
    "# call the path to were you have installed pytesseract in your system\n",
    "pytesseract.pytesseract.tesseract_cmd=r'C:\\\\Users\\\\Keerthesh\\\\AppData\\\\Local\\\\Tesseract-OCR\\\\tesseract.exe'\n",
    "import cv2\n",
    "import pytesseract\n",
    "import shutil\n",
    "import os\n",
    "import random\n",
    "try:\n",
    "    from PIL import Image\n",
    "except ImportError:\n",
    "    import Image\n",
    "from PIL import ImageEnhance"
   ]
  },
  {
   "cell_type": "code",
   "execution_count": 2,
   "metadata": {},
   "outputs": [],
   "source": [
    "imgexp = 'D:\\\\Keerthesh\\\\Python_Folder\\\\Jupyter_Notebook\\\\MyProject\\\\OCR_Project\\\\sample_images\\\\Sample1.JPG'"
   ]
  },
  {
   "cell_type": "code",
   "execution_count": 3,
   "metadata": {},
   "outputs": [],
   "source": [
    "image = Image.open(imgexp)\n",
    "# image.show()"
   ]
  },
  {
   "cell_type": "markdown",
   "metadata": {},
   "source": [
    "# Enhancing the Image Features"
   ]
  },
  {
   "cell_type": "code",
   "execution_count": 4,
   "metadata": {},
   "outputs": [],
   "source": [
    "# Defining the all the parameters.\n",
    "brightness = 1.3\n",
    "color = 1.3\n",
    "contrast = 1.3\n",
    "sharpness = 1.0"
   ]
  },
  {
   "cell_type": "code",
   "execution_count": 5,
   "metadata": {},
   "outputs": [],
   "source": [
    "# Enhancing the brightness of the image\n",
    "enh_bri = ImageEnhance.Brightness(image)\n",
    "image_brightened = enh_bri.enhance(brightness)\n",
    "# image_brightened.show()"
   ]
  },
  {
   "cell_type": "code",
   "execution_count": 6,
   "metadata": {},
   "outputs": [],
   "source": [
    "# Enhancing the color of the image\n",
    "enh_col = ImageEnhance.Color(image_brightened)\n",
    "image_colored = enh_col.enhance(color)\n",
    "# image_colored.show()"
   ]
  },
  {
   "cell_type": "code",
   "execution_count": 7,
   "metadata": {},
   "outputs": [],
   "source": [
    "# Enhancing the contrast of the image\n",
    "enh_con = ImageEnhance.Contrast(image_colored)\n",
    "image_contrasted = enh_con.enhance(contrast)\n",
    "# image_contrasted.show()"
   ]
  },
  {
   "cell_type": "code",
   "execution_count": 8,
   "metadata": {},
   "outputs": [],
   "source": [
    "# Enhancing the sharpness of the image\n",
    "enh_sha = ImageEnhance.Sharpness(image_contrasted)\n",
    "image_sharped = enh_sha.enhance(sharpness)\n",
    "# image_sharped.show()"
   ]
  },
  {
   "cell_type": "markdown",
   "metadata": {},
   "source": [
    "# Extracting the characters from the Images"
   ]
  },
  {
   "cell_type": "code",
   "execution_count": 9,
   "metadata": {},
   "outputs": [
    {
     "name": "stdout",
     "output_type": "stream",
     "text": [
      "It features exclusively free content and no commercial ads and is owned and supported\n",
      "\n",
      "by the Wikimedia Foundation, a non-profit organization.\n",
      "\n",
      "Wikipedia was launched on January 15, 2001, and was created by Jimmy Wales and\n",
      "Larry Sanger. Sanger coined its name as a portmanteau of the words “wiki” and\n",
      "“encyclopedia”. Initially, an English-language encyclopedia, versions of Wikipedia in\n",
      "other languages were quickly developed. With 6.1 million articles, the English\n",
      "Wikipedia is the largest of the more than 300 Wikipedia encyclopedias. Overall,\n",
      "Wikipedia comprises more than $4 million articles attracting 1.5 billion unique visitors\n",
      "\n",
      "per month.\n",
      "\n",
      "The domains wikipedia.com and wikipedia.org were registered on January 12, 2001,\n",
      "and January 13, 2001, respectively, and Wikipedia was launched on January 15, 2001,\n",
      "as a single English-language edition at www.wikipedia.com, and announced by Sanger\n",
      "\n",
      "on the Nupedia mailing list.\n"
     ]
    }
   ],
   "source": [
    "# converting the image to string\n",
    "extractedInformation = pytesseract.image_to_string(image_sharped)\n",
    "print(extractedInformation)"
   ]
  },
  {
   "cell_type": "code",
   "execution_count": null,
   "metadata": {},
   "outputs": [],
   "source": []
  }
 ],
 "metadata": {
  "kernelspec": {
   "display_name": "Python 3",
   "language": "python",
   "name": "python3"
  },
  "language_info": {
   "codemirror_mode": {
    "name": "ipython",
    "version": 3
   },
   "file_extension": ".py",
   "mimetype": "text/x-python",
   "name": "python",
   "nbconvert_exporter": "python",
   "pygments_lexer": "ipython3",
   "version": "3.7.0"
  }
 },
 "nbformat": 4,
 "nbformat_minor": 2
}
